{
  "metadata": {
    "kernelspec": {
      "name": "python",
      "display_name": "Python (Pyodide)",
      "language": "python"
    },
    "language_info": {
      "codemirror_mode": {
        "name": "python",
        "version": 3
      },
      "file_extension": ".py",
      "mimetype": "text/x-python",
      "name": "python",
      "nbconvert_exporter": "python",
      "pygments_lexer": "ipython3",
      "version": "3.8"
    }
  },
  "nbformat_minor": 5,
  "nbformat": 4,
  "cells": [
    {
      "id": "8191c263-db87-4109-9adc-37818df7b9af",
      "cell_type": "code",
      "source": "import numpy as np\nimport pandas as pd\nimport re\nfrom nltk.corpus import stopwords\nfrom nltk.stem.porter import PorterStemmer \nfrom sklearn.feature_extraction.text import TfidfVectorizer \nfrom sklearn.model_selection import train_test_split\nfrom sklearn.linear_model import LogisticRegression\nfrom sklearn.metrics import accuracy_score\nstopwords_set = set([\n    \"i\", \"me\", \"my\", \"myself\", \"we\", \"our\", \"ours\", \"ourselves\",\n    \"you\", \"your\", \"yours\", \"yourself\", \"yourselves\", \"he\", \"him\",\n    \"his\", \"himself\", \"she\", \"her\", \"hers\", \"herself\", \"it\", \"its\",\n    \"itself\", \"they\", \"them\", \"their\", \"theirs\", \"themselves\", \"what\",\n    \"which\", \"who\", \"whom\", \"this\", \"that\", \"these\", \"those\", \"am\",\n    \"is\", \"are\", \"was\", \"were\", \"be\", \"been\", \"being\", \"have\", \"has\",\n    \"had\", \"having\", \"do\", \"does\", \"did\", \"doing\", \"a\", \"an\", \"the\",\n    \"and\", \"but\", \"if\", \"or\", \"because\", \"as\", \"until\", \"while\", \"of\",\n    \"at\", \"by\", \"for\", \"with\", \"about\", \"against\", \"between\", \"into\",\n    \"through\", \"during\", \"before\", \"after\", \"above\", \"below\", \"to\",\n    \"from\", \"up\", \"down\", \"in\", \"out\", \"on\", \"off\", \"over\", \"under\",\n    \"again\", \"further\", \"then\", \"once\", \"here\", \"there\", \"when\", \"where\",\n    \"why\", \"how\", \"all\", \"any\", \"both\", \"each\", \"few\", \"more\", \"most\",\n    \"other\", \"some\", \"such\", \"no\", \"nor\", \"not\", \"only\", \"own\", \"same\",\n    \"so\", \"than\", \"too\", \"very\", \"s\", \"t\", \"can\", \"will\", \"just\", \"don\",\n    \"should\", \"now\"\n])\n",
      "metadata": {
        "trusted": true
      },
      "outputs": [],
      "execution_count": 25
    },
    {
      "id": "fdda2420-6d83-461e-94dd-456d57732a8c",
      "cell_type": "code",
      "source": "news_df = pd.read_csv('train.csv')",
      "metadata": {
        "trusted": true
      },
      "outputs": [],
      "execution_count": 26
    },
    {
      "id": "f7e00175-48e2-4c3e-b9f3-eff53044fc69",
      "cell_type": "code",
      "source": "news_df.head()",
      "metadata": {
        "trusted": true
      },
      "outputs": [
        {
          "execution_count": 27,
          "output_type": "execute_result",
          "data": {
            "text/plain": "   id                                              title              author  \\\n0   0  House Dem Aide: We Didn’t Even See Comey’s Let...       Darrell Lucus   \n1   1  FLYNN: Hillary Clinton, Big Woman on Campus - ...     Daniel J. Flynn   \n2   2                  Why the Truth Might Get You Fired  Consortiumnews.com   \n3   3  15 Civilians Killed In Single US Airstrike Hav...     Jessica Purkiss   \n4   4  Iranian woman jailed for fictional unpublished...      Howard Portnoy   \n\n                                                text  label  \n0  House Dem Aide: We Didn’t Even See Comey’s Let...      1  \n1  Ever get the feeling your life circles the rou...      0  \n2  Why the Truth Might Get You Fired October 29, ...      1  \n3  Videos 15 Civilians Killed In Single US Airstr...      1  \n4  Print \\nAn Iranian woman has been sentenced to...      1  ",
            "text/html": "<div>\n<style scoped>\n    .dataframe tbody tr th:only-of-type {\n        vertical-align: middle;\n    }\n\n    .dataframe tbody tr th {\n        vertical-align: top;\n    }\n\n    .dataframe thead th {\n        text-align: right;\n    }\n</style>\n<table border=\"1\" class=\"dataframe\">\n  <thead>\n    <tr style=\"text-align: right;\">\n      <th></th>\n      <th>id</th>\n      <th>title</th>\n      <th>author</th>\n      <th>text</th>\n      <th>label</th>\n    </tr>\n  </thead>\n  <tbody>\n    <tr>\n      <th>0</th>\n      <td>0</td>\n      <td>House Dem Aide: We Didn’t Even See Comey’s Let...</td>\n      <td>Darrell Lucus</td>\n      <td>House Dem Aide: We Didn’t Even See Comey’s Let...</td>\n      <td>1</td>\n    </tr>\n    <tr>\n      <th>1</th>\n      <td>1</td>\n      <td>FLYNN: Hillary Clinton, Big Woman on Campus - ...</td>\n      <td>Daniel J. Flynn</td>\n      <td>Ever get the feeling your life circles the rou...</td>\n      <td>0</td>\n    </tr>\n    <tr>\n      <th>2</th>\n      <td>2</td>\n      <td>Why the Truth Might Get You Fired</td>\n      <td>Consortiumnews.com</td>\n      <td>Why the Truth Might Get You Fired October 29, ...</td>\n      <td>1</td>\n    </tr>\n    <tr>\n      <th>3</th>\n      <td>3</td>\n      <td>15 Civilians Killed In Single US Airstrike Hav...</td>\n      <td>Jessica Purkiss</td>\n      <td>Videos 15 Civilians Killed In Single US Airstr...</td>\n      <td>1</td>\n    </tr>\n    <tr>\n      <th>4</th>\n      <td>4</td>\n      <td>Iranian woman jailed for fictional unpublished...</td>\n      <td>Howard Portnoy</td>\n      <td>Print \\nAn Iranian woman has been sentenced to...</td>\n      <td>1</td>\n    </tr>\n  </tbody>\n</table>\n</div>"
          },
          "metadata": {}
        }
      ],
      "execution_count": 27
    },
    {
      "id": "df43c994-a44c-42cd-bec0-e152e8cf2c2d",
      "cell_type": "code",
      "source": "news_df.shape",
      "metadata": {
        "trusted": true
      },
      "outputs": [
        {
          "execution_count": 28,
          "output_type": "execute_result",
          "data": {
            "text/plain": "(20800, 5)"
          },
          "metadata": {}
        }
      ],
      "execution_count": 28
    },
    {
      "id": "79d8151c-744a-4fb9-ae46-9d70b316d755",
      "cell_type": "code",
      "source": "news_df.isna().sum()",
      "metadata": {
        "trusted": true
      },
      "outputs": [
        {
          "execution_count": 29,
          "output_type": "execute_result",
          "data": {
            "text/plain": "id           0\ntitle      558\nauthor    1957\ntext        39\nlabel        0\ndtype: int64"
          },
          "metadata": {}
        }
      ],
      "execution_count": 29
    },
    {
      "id": "73afc6aa-af26-4e26-a584-6ace2907f66c",
      "cell_type": "code",
      "source": "news_df = news_df.fillna(' ')",
      "metadata": {
        "trusted": true
      },
      "outputs": [],
      "execution_count": 30
    },
    {
      "id": "3b27317c-0e3c-43e7-9bf1-7d8f3239f39c",
      "cell_type": "code",
      "source": "news_df.isna().sum()",
      "metadata": {
        "trusted": true
      },
      "outputs": [
        {
          "execution_count": 31,
          "output_type": "execute_result",
          "data": {
            "text/plain": "id        0\ntitle     0\nauthor    0\ntext      0\nlabel     0\ndtype: int64"
          },
          "metadata": {}
        }
      ],
      "execution_count": 31
    },
    {
      "id": "17f85a84-cb3f-47e3-8f7d-89442f0dca37",
      "cell_type": "code",
      "source": "news_df['content'] = news_df['author']+\" \"+news_df['title']",
      "metadata": {
        "trusted": true
      },
      "outputs": [],
      "execution_count": 32
    },
    {
      "id": "ea2528e8-a7c0-4923-9d28-a5b28a7ceb44",
      "cell_type": "code",
      "source": "news_df",
      "metadata": {
        "trusted": true
      },
      "outputs": [
        {
          "execution_count": 33,
          "output_type": "execute_result",
          "data": {
            "text/plain": "          id                                              title  \\\n0          0  House Dem Aide: We Didn’t Even See Comey’s Let...   \n1          1  FLYNN: Hillary Clinton, Big Woman on Campus - ...   \n2          2                  Why the Truth Might Get You Fired   \n3          3  15 Civilians Killed In Single US Airstrike Hav...   \n4          4  Iranian woman jailed for fictional unpublished...   \n...      ...                                                ...   \n20795  20795  Rapper T.I.: Trump a ’Poster Child For White S...   \n20796  20796  N.F.L. Playoffs: Schedule, Matchups and Odds -...   \n20797  20797  Macy’s Is Said to Receive Takeover Approach by...   \n20798  20798  NATO, Russia To Hold Parallel Exercises In Bal...   \n20799  20799                          What Keeps the F-35 Alive   \n\n                                          author  \\\n0                                  Darrell Lucus   \n1                                Daniel J. Flynn   \n2                             Consortiumnews.com   \n3                                Jessica Purkiss   \n4                                 Howard Portnoy   \n...                                          ...   \n20795                              Jerome Hudson   \n20796                           Benjamin Hoffman   \n20797  Michael J. de la Merced and Rachel Abrams   \n20798                                Alex Ansary   \n20799                              David Swanson   \n\n                                                    text  label  \\\n0      House Dem Aide: We Didn’t Even See Comey’s Let...      1   \n1      Ever get the feeling your life circles the rou...      0   \n2      Why the Truth Might Get You Fired October 29, ...      1   \n3      Videos 15 Civilians Killed In Single US Airstr...      1   \n4      Print \\nAn Iranian woman has been sentenced to...      1   \n...                                                  ...    ...   \n20795  Rapper T. I. unloaded on black celebrities who...      0   \n20796  When the Green Bay Packers lost to the Washing...      0   \n20797  The Macy’s of today grew from the union of sev...      0   \n20798  NATO, Russia To Hold Parallel Exercises In Bal...      1   \n20799    David Swanson is an author, activist, journa...      1   \n\n                                                 content  \n0      Darrell Lucus House Dem Aide: We Didn’t Even S...  \n1      Daniel J. Flynn FLYNN: Hillary Clinton, Big Wo...  \n2      Consortiumnews.com Why the Truth Might Get You...  \n3      Jessica Purkiss 15 Civilians Killed In Single ...  \n4      Howard Portnoy Iranian woman jailed for fictio...  \n...                                                  ...  \n20795  Jerome Hudson Rapper T.I.: Trump a ’Poster Chi...  \n20796  Benjamin Hoffman N.F.L. Playoffs: Schedule, Ma...  \n20797  Michael J. de la Merced and Rachel Abrams Macy...  \n20798  Alex Ansary NATO, Russia To Hold Parallel Exer...  \n20799            David Swanson What Keeps the F-35 Alive  \n\n[20800 rows x 6 columns]",
            "text/html": "<div>\n<style scoped>\n    .dataframe tbody tr th:only-of-type {\n        vertical-align: middle;\n    }\n\n    .dataframe tbody tr th {\n        vertical-align: top;\n    }\n\n    .dataframe thead th {\n        text-align: right;\n    }\n</style>\n<table border=\"1\" class=\"dataframe\">\n  <thead>\n    <tr style=\"text-align: right;\">\n      <th></th>\n      <th>id</th>\n      <th>title</th>\n      <th>author</th>\n      <th>text</th>\n      <th>label</th>\n      <th>content</th>\n    </tr>\n  </thead>\n  <tbody>\n    <tr>\n      <th>0</th>\n      <td>0</td>\n      <td>House Dem Aide: We Didn’t Even See Comey’s Let...</td>\n      <td>Darrell Lucus</td>\n      <td>House Dem Aide: We Didn’t Even See Comey’s Let...</td>\n      <td>1</td>\n      <td>Darrell Lucus House Dem Aide: We Didn’t Even S...</td>\n    </tr>\n    <tr>\n      <th>1</th>\n      <td>1</td>\n      <td>FLYNN: Hillary Clinton, Big Woman on Campus - ...</td>\n      <td>Daniel J. Flynn</td>\n      <td>Ever get the feeling your life circles the rou...</td>\n      <td>0</td>\n      <td>Daniel J. Flynn FLYNN: Hillary Clinton, Big Wo...</td>\n    </tr>\n    <tr>\n      <th>2</th>\n      <td>2</td>\n      <td>Why the Truth Might Get You Fired</td>\n      <td>Consortiumnews.com</td>\n      <td>Why the Truth Might Get You Fired October 29, ...</td>\n      <td>1</td>\n      <td>Consortiumnews.com Why the Truth Might Get You...</td>\n    </tr>\n    <tr>\n      <th>3</th>\n      <td>3</td>\n      <td>15 Civilians Killed In Single US Airstrike Hav...</td>\n      <td>Jessica Purkiss</td>\n      <td>Videos 15 Civilians Killed In Single US Airstr...</td>\n      <td>1</td>\n      <td>Jessica Purkiss 15 Civilians Killed In Single ...</td>\n    </tr>\n    <tr>\n      <th>4</th>\n      <td>4</td>\n      <td>Iranian woman jailed for fictional unpublished...</td>\n      <td>Howard Portnoy</td>\n      <td>Print \\nAn Iranian woman has been sentenced to...</td>\n      <td>1</td>\n      <td>Howard Portnoy Iranian woman jailed for fictio...</td>\n    </tr>\n    <tr>\n      <th>...</th>\n      <td>...</td>\n      <td>...</td>\n      <td>...</td>\n      <td>...</td>\n      <td>...</td>\n      <td>...</td>\n    </tr>\n    <tr>\n      <th>20795</th>\n      <td>20795</td>\n      <td>Rapper T.I.: Trump a ’Poster Child For White S...</td>\n      <td>Jerome Hudson</td>\n      <td>Rapper T. I. unloaded on black celebrities who...</td>\n      <td>0</td>\n      <td>Jerome Hudson Rapper T.I.: Trump a ’Poster Chi...</td>\n    </tr>\n    <tr>\n      <th>20796</th>\n      <td>20796</td>\n      <td>N.F.L. Playoffs: Schedule, Matchups and Odds -...</td>\n      <td>Benjamin Hoffman</td>\n      <td>When the Green Bay Packers lost to the Washing...</td>\n      <td>0</td>\n      <td>Benjamin Hoffman N.F.L. Playoffs: Schedule, Ma...</td>\n    </tr>\n    <tr>\n      <th>20797</th>\n      <td>20797</td>\n      <td>Macy’s Is Said to Receive Takeover Approach by...</td>\n      <td>Michael J. de la Merced and Rachel Abrams</td>\n      <td>The Macy’s of today grew from the union of sev...</td>\n      <td>0</td>\n      <td>Michael J. de la Merced and Rachel Abrams Macy...</td>\n    </tr>\n    <tr>\n      <th>20798</th>\n      <td>20798</td>\n      <td>NATO, Russia To Hold Parallel Exercises In Bal...</td>\n      <td>Alex Ansary</td>\n      <td>NATO, Russia To Hold Parallel Exercises In Bal...</td>\n      <td>1</td>\n      <td>Alex Ansary NATO, Russia To Hold Parallel Exer...</td>\n    </tr>\n    <tr>\n      <th>20799</th>\n      <td>20799</td>\n      <td>What Keeps the F-35 Alive</td>\n      <td>David Swanson</td>\n      <td>David Swanson is an author, activist, journa...</td>\n      <td>1</td>\n      <td>David Swanson What Keeps the F-35 Alive</td>\n    </tr>\n  </tbody>\n</table>\n<p>20800 rows × 6 columns</p>\n</div>"
          },
          "metadata": {}
        }
      ],
      "execution_count": 33
    },
    {
      "id": "51ebe962-48a1-4d21-9c32-97de86fbca16",
      "cell_type": "code",
      "source": "news_df['content']",
      "metadata": {
        "trusted": true
      },
      "outputs": [
        {
          "execution_count": 34,
          "output_type": "execute_result",
          "data": {
            "text/plain": "0        Darrell Lucus House Dem Aide: We Didn’t Even S...\n1        Daniel J. Flynn FLYNN: Hillary Clinton, Big Wo...\n2        Consortiumnews.com Why the Truth Might Get You...\n3        Jessica Purkiss 15 Civilians Killed In Single ...\n4        Howard Portnoy Iranian woman jailed for fictio...\n                               ...                        \n20795    Jerome Hudson Rapper T.I.: Trump a ’Poster Chi...\n20796    Benjamin Hoffman N.F.L. Playoffs: Schedule, Ma...\n20797    Michael J. de la Merced and Rachel Abrams Macy...\n20798    Alex Ansary NATO, Russia To Hold Parallel Exer...\n20799              David Swanson What Keeps the F-35 Alive\nName: content, Length: 20800, dtype: object"
          },
          "metadata": {}
        }
      ],
      "execution_count": 34
    },
    {
      "id": "35563832-b4cb-4b99-8e94-7295d8d12fd2",
      "cell_type": "code",
      "source": "ps = PorterStemmer()\ndef stemming(content):\n    stemmed_content = re.sub('[^a-zA-Z]', ' ', content)\n    stemmed_content = stemmed_content.lower()\n    stemmed_content = stemmed_content.split()\n    stemmed_content = [ps.stem(word) for word in stemmed_content if word not in stopwords_set]\n    return ' '.join(stemmed_content)\n",
      "metadata": {
        "trusted": true
      },
      "outputs": [],
      "execution_count": 35
    },
    {
      "id": "9d4035a1-e470-4fc5-bae3-62091b2ee572",
      "cell_type": "code",
      "source": "news_df['content'] = news_df['content'].apply(stemming)",
      "metadata": {
        "trusted": true
      },
      "outputs": [],
      "execution_count": 36
    },
    {
      "id": "fdd1b36c-01ea-4ad2-a0ae-9b1171abf972",
      "cell_type": "code",
      "source": "news_df['content']",
      "metadata": {
        "trusted": true
      },
      "outputs": [
        {
          "execution_count": 37,
          "output_type": "execute_result",
          "data": {
            "text/plain": "0        darrel lucu hous dem aid didn even see comey l...\n1        daniel j flynn flynn hillari clinton big woman...\n2                   consortiumnew com truth might get fire\n3        jessica purkiss civilian kill singl us airstri...\n4        howard portnoy iranian woman jail fiction unpu...\n                               ...                        \n20795    jerom hudson rapper trump poster child white s...\n20796    benjamin hoffman n f l playoff schedul matchup...\n20797    michael j de la merc rachel abram maci said re...\n20798    alex ansari nato russia hold parallel exercis ...\n20799                            david swanson keep f aliv\nName: content, Length: 20800, dtype: object"
          },
          "metadata": {}
        }
      ],
      "execution_count": 37
    },
    {
      "id": "f4ebca76-1ae3-4a4f-89b6-12dd11f7d861",
      "cell_type": "code",
      "source": "X = news_df['content'].values\ny = news_df['label'].values",
      "metadata": {
        "trusted": true
      },
      "outputs": [],
      "execution_count": 38
    },
    {
      "id": "1707330c-f5b8-4d96-a132-9cbfb872458f",
      "cell_type": "code",
      "source": "print(X)\n",
      "metadata": {
        "trusted": true
      },
      "outputs": [
        {
          "name": "stdout",
          "output_type": "stream",
          "text": "['darrel lucu hous dem aid didn even see comey letter jason chaffetz tweet'\n 'daniel j flynn flynn hillari clinton big woman campu breitbart'\n 'consortiumnew com truth might get fire' ...\n 'michael j de la merc rachel abram maci said receiv takeov approach hudson bay new york time'\n 'alex ansari nato russia hold parallel exercis balkan'\n 'david swanson keep f aliv']\n"
        }
      ],
      "execution_count": 39
    },
    {
      "id": "888fd5ff-7b4e-4d6b-910f-2cb0c04451fb",
      "cell_type": "code",
      "source": "vector = TfidfVectorizer()\nvector.fit(X)\nX = vector.transform(X)",
      "metadata": {
        "trusted": true
      },
      "outputs": [],
      "execution_count": 40
    },
    {
      "id": "0bc1d2af-1831-4a13-a64e-b5d8d7fe4d82",
      "cell_type": "code",
      "source": "print(X)",
      "metadata": {
        "trusted": true
      },
      "outputs": [
        {
          "name": "stdout",
          "output_type": "stream",
          "text": "<Compressed Sparse Row sparse matrix of dtype 'float64'\n\twith 211421 stored elements and shape (20800, 17144)>\n  Coords\tValues\n  (0, 267)\t0.25894488192633086\n  (0, 2485)\t0.3524663277134871\n  (0, 2961)\t0.2366492297246751\n  (0, 3603)\t0.3450287193908969\n  (0, 3795)\t0.25935903680643724\n  (0, 4011)\t0.28443405360208907\n  (0, 4978)\t0.22367995149083006\n  (0, 7012)\t0.20970669838645034\n  (0, 7700)\t0.23761481102346718\n  (0, 8638)\t0.2800590895926497\n  (0, 8918)\t0.3485782532641156\n  (0, 13483)\t0.24599138775354681\n  (0, 15697)\t0.2730850533643292\n  (1, 1499)\t0.2939891562094648\n  (1, 1896)\t0.15521974226349364\n  (1, 2225)\t0.3827320386859759\n  (1, 2815)\t0.19094574062359204\n  (1, 3571)\t0.26373768806048464\n  (1, 5508)\t0.7143299355715573\n  (1, 6823)\t0.1904660198296849\n  (1, 16813)\t0.30071745655510157\n  (2, 2945)\t0.3179886800654691\n  (2, 3105)\t0.46097489583229645\n  (2, 5394)\t0.3866530551182615\n  (2, 5973)\t0.3474613386728292\n  :\t:\n  (20797, 3646)\t0.2115550061362374\n  (20797, 7049)\t0.21799048897828685\n  (20797, 8372)\t0.22322585870464115\n  (20797, 8998)\t0.36160868928090795\n  (20797, 9528)\t0.29542040034203126\n  (20797, 9598)\t0.17455348025522197\n  (20797, 10316)\t0.08038079000566466\n  (20797, 12148)\t0.24778257724396505\n  (20797, 12354)\t0.27263457663336677\n  (20797, 13132)\t0.24825263521976057\n  (20797, 14978)\t0.3115945315488075\n  (20797, 15306)\t0.08159261204402356\n  (20797, 17012)\t0.08315655906109998\n  (20798, 351)\t0.2844693781907258\n  (20798, 589)\t0.3112141524638974\n  (20798, 1127)\t0.4460515589182237\n  (20798, 5037)\t0.40837014502395297\n  (20798, 6896)\t0.3249628569429943\n  (20798, 10187)\t0.31924963701870285\n  (20798, 11062)\t0.4460515589182237\n  (20798, 13056)\t0.2236326748827061\n  (20799, 378)\t0.5677577267055112\n  (20799, 3626)\t0.37927626273066584\n  (20799, 8044)\t0.45983893273780013\n  (20799, 14863)\t0.5677577267055112\n"
        }
      ],
      "execution_count": 41
    },
    {
      "id": "0b666955-51b0-4ff8-8762-44bf3990b551",
      "cell_type": "code",
      "source": "X_train, X_test, y_train, y_test = train_test_split(X, y, test_size=0.2,stratify=y, random_state=1)",
      "metadata": {
        "trusted": true
      },
      "outputs": [],
      "execution_count": 51
    },
    {
      "id": "55b16eb4-d137-435f-9022-e996ad56e08a",
      "cell_type": "code",
      "source": "X_train.shape",
      "metadata": {
        "trusted": true
      },
      "outputs": [
        {
          "execution_count": 52,
          "output_type": "execute_result",
          "data": {
            "text/plain": "(16640, 17144)"
          },
          "metadata": {}
        }
      ],
      "execution_count": 52
    },
    {
      "id": "f56e3025-bdc2-4048-b2d1-691cc9a98081",
      "cell_type": "code",
      "source": "X_test.shape",
      "metadata": {
        "trusted": true
      },
      "outputs": [
        {
          "execution_count": 44,
          "output_type": "execute_result",
          "data": {
            "text/plain": "(4160, 17144)"
          },
          "metadata": {}
        }
      ],
      "execution_count": 44
    },
    {
      "id": "f6a58d31-c79e-430f-8aad-0fc9a0a51790",
      "cell_type": "code",
      "source": "model = LogisticRegression()\nmodel.fit(X_train,y_train)",
      "metadata": {
        "trusted": true
      },
      "outputs": [
        {
          "execution_count": 54,
          "output_type": "execute_result",
          "data": {
            "text/plain": "LogisticRegression()",
            "text/html": "<style>#sk-container-id-1 {\n  /* Definition of color scheme common for light and dark mode */\n  --sklearn-color-text: #000;\n  --sklearn-color-text-muted: #666;\n  --sklearn-color-line: gray;\n  /* Definition of color scheme for unfitted estimators */\n  --sklearn-color-unfitted-level-0: #fff5e6;\n  --sklearn-color-unfitted-level-1: #f6e4d2;\n  --sklearn-color-unfitted-level-2: #ffe0b3;\n  --sklearn-color-unfitted-level-3: chocolate;\n  /* Definition of color scheme for fitted estimators */\n  --sklearn-color-fitted-level-0: #f0f8ff;\n  --sklearn-color-fitted-level-1: #d4ebff;\n  --sklearn-color-fitted-level-2: #b3dbfd;\n  --sklearn-color-fitted-level-3: cornflowerblue;\n\n  /* Specific color for light theme */\n  --sklearn-color-text-on-default-background: var(--sg-text-color, var(--theme-code-foreground, var(--jp-content-font-color1, black)));\n  --sklearn-color-background: var(--sg-background-color, var(--theme-background, var(--jp-layout-color0, white)));\n  --sklearn-color-border-box: var(--sg-text-color, var(--theme-code-foreground, var(--jp-content-font-color1, black)));\n  --sklearn-color-icon: #696969;\n\n  @media (prefers-color-scheme: dark) {\n    /* Redefinition of color scheme for dark theme */\n    --sklearn-color-text-on-default-background: var(--sg-text-color, var(--theme-code-foreground, var(--jp-content-font-color1, white)));\n    --sklearn-color-background: var(--sg-background-color, var(--theme-background, var(--jp-layout-color0, #111)));\n    --sklearn-color-border-box: var(--sg-text-color, var(--theme-code-foreground, var(--jp-content-font-color1, white)));\n    --sklearn-color-icon: #878787;\n  }\n}\n\n#sk-container-id-1 {\n  color: var(--sklearn-color-text);\n}\n\n#sk-container-id-1 pre {\n  padding: 0;\n}\n\n#sk-container-id-1 input.sk-hidden--visually {\n  border: 0;\n  clip: rect(1px 1px 1px 1px);\n  clip: rect(1px, 1px, 1px, 1px);\n  height: 1px;\n  margin: -1px;\n  overflow: hidden;\n  padding: 0;\n  position: absolute;\n  width: 1px;\n}\n\n#sk-container-id-1 div.sk-dashed-wrapped {\n  border: 1px dashed var(--sklearn-color-line);\n  margin: 0 0.4em 0.5em 0.4em;\n  box-sizing: border-box;\n  padding-bottom: 0.4em;\n  background-color: var(--sklearn-color-background);\n}\n\n#sk-container-id-1 div.sk-container {\n  /* jupyter's `normalize.less` sets `[hidden] { display: none; }`\n     but bootstrap.min.css set `[hidden] { display: none !important; }`\n     so we also need the `!important` here to be able to override the\n     default hidden behavior on the sphinx rendered scikit-learn.org.\n     See: https://github.com/scikit-learn/scikit-learn/issues/21755 */\n  display: inline-block !important;\n  position: relative;\n}\n\n#sk-container-id-1 div.sk-text-repr-fallback {\n  display: none;\n}\n\ndiv.sk-parallel-item,\ndiv.sk-serial,\ndiv.sk-item {\n  /* draw centered vertical line to link estimators */\n  background-image: linear-gradient(var(--sklearn-color-text-on-default-background), var(--sklearn-color-text-on-default-background));\n  background-size: 2px 100%;\n  background-repeat: no-repeat;\n  background-position: center center;\n}\n\n/* Parallel-specific style estimator block */\n\n#sk-container-id-1 div.sk-parallel-item::after {\n  content: \"\";\n  width: 100%;\n  border-bottom: 2px solid var(--sklearn-color-text-on-default-background);\n  flex-grow: 1;\n}\n\n#sk-container-id-1 div.sk-parallel {\n  display: flex;\n  align-items: stretch;\n  justify-content: center;\n  background-color: var(--sklearn-color-background);\n  position: relative;\n}\n\n#sk-container-id-1 div.sk-parallel-item {\n  display: flex;\n  flex-direction: column;\n}\n\n#sk-container-id-1 div.sk-parallel-item:first-child::after {\n  align-self: flex-end;\n  width: 50%;\n}\n\n#sk-container-id-1 div.sk-parallel-item:last-child::after {\n  align-self: flex-start;\n  width: 50%;\n}\n\n#sk-container-id-1 div.sk-parallel-item:only-child::after {\n  width: 0;\n}\n\n/* Serial-specific style estimator block */\n\n#sk-container-id-1 div.sk-serial {\n  display: flex;\n  flex-direction: column;\n  align-items: center;\n  background-color: var(--sklearn-color-background);\n  padding-right: 1em;\n  padding-left: 1em;\n}\n\n\n/* Toggleable style: style used for estimator/Pipeline/ColumnTransformer box that is\nclickable and can be expanded/collapsed.\n- Pipeline and ColumnTransformer use this feature and define the default style\n- Estimators will overwrite some part of the style using the `sk-estimator` class\n*/\n\n/* Pipeline and ColumnTransformer style (default) */\n\n#sk-container-id-1 div.sk-toggleable {\n  /* Default theme specific background. It is overwritten whether we have a\n  specific estimator or a Pipeline/ColumnTransformer */\n  background-color: var(--sklearn-color-background);\n}\n\n/* Toggleable label */\n#sk-container-id-1 label.sk-toggleable__label {\n  cursor: pointer;\n  display: flex;\n  width: 100%;\n  margin-bottom: 0;\n  padding: 0.5em;\n  box-sizing: border-box;\n  text-align: center;\n  align-items: start;\n  justify-content: space-between;\n  gap: 0.5em;\n}\n\n#sk-container-id-1 label.sk-toggleable__label .caption {\n  font-size: 0.6rem;\n  font-weight: lighter;\n  color: var(--sklearn-color-text-muted);\n}\n\n#sk-container-id-1 label.sk-toggleable__label-arrow:before {\n  /* Arrow on the left of the label */\n  content: \"▸\";\n  float: left;\n  margin-right: 0.25em;\n  color: var(--sklearn-color-icon);\n}\n\n#sk-container-id-1 label.sk-toggleable__label-arrow:hover:before {\n  color: var(--sklearn-color-text);\n}\n\n/* Toggleable content - dropdown */\n\n#sk-container-id-1 div.sk-toggleable__content {\n  max-height: 0;\n  max-width: 0;\n  overflow: hidden;\n  text-align: left;\n  /* unfitted */\n  background-color: var(--sklearn-color-unfitted-level-0);\n}\n\n#sk-container-id-1 div.sk-toggleable__content.fitted {\n  /* fitted */\n  background-color: var(--sklearn-color-fitted-level-0);\n}\n\n#sk-container-id-1 div.sk-toggleable__content pre {\n  margin: 0.2em;\n  border-radius: 0.25em;\n  color: var(--sklearn-color-text);\n  /* unfitted */\n  background-color: var(--sklearn-color-unfitted-level-0);\n}\n\n#sk-container-id-1 div.sk-toggleable__content.fitted pre {\n  /* unfitted */\n  background-color: var(--sklearn-color-fitted-level-0);\n}\n\n#sk-container-id-1 input.sk-toggleable__control:checked~div.sk-toggleable__content {\n  /* Expand drop-down */\n  max-height: 200px;\n  max-width: 100%;\n  overflow: auto;\n}\n\n#sk-container-id-1 input.sk-toggleable__control:checked~label.sk-toggleable__label-arrow:before {\n  content: \"▾\";\n}\n\n/* Pipeline/ColumnTransformer-specific style */\n\n#sk-container-id-1 div.sk-label input.sk-toggleable__control:checked~label.sk-toggleable__label {\n  color: var(--sklearn-color-text);\n  background-color: var(--sklearn-color-unfitted-level-2);\n}\n\n#sk-container-id-1 div.sk-label.fitted input.sk-toggleable__control:checked~label.sk-toggleable__label {\n  background-color: var(--sklearn-color-fitted-level-2);\n}\n\n/* Estimator-specific style */\n\n/* Colorize estimator box */\n#sk-container-id-1 div.sk-estimator input.sk-toggleable__control:checked~label.sk-toggleable__label {\n  /* unfitted */\n  background-color: var(--sklearn-color-unfitted-level-2);\n}\n\n#sk-container-id-1 div.sk-estimator.fitted input.sk-toggleable__control:checked~label.sk-toggleable__label {\n  /* fitted */\n  background-color: var(--sklearn-color-fitted-level-2);\n}\n\n#sk-container-id-1 div.sk-label label.sk-toggleable__label,\n#sk-container-id-1 div.sk-label label {\n  /* The background is the default theme color */\n  color: var(--sklearn-color-text-on-default-background);\n}\n\n/* On hover, darken the color of the background */\n#sk-container-id-1 div.sk-label:hover label.sk-toggleable__label {\n  color: var(--sklearn-color-text);\n  background-color: var(--sklearn-color-unfitted-level-2);\n}\n\n/* Label box, darken color on hover, fitted */\n#sk-container-id-1 div.sk-label.fitted:hover label.sk-toggleable__label.fitted {\n  color: var(--sklearn-color-text);\n  background-color: var(--sklearn-color-fitted-level-2);\n}\n\n/* Estimator label */\n\n#sk-container-id-1 div.sk-label label {\n  font-family: monospace;\n  font-weight: bold;\n  display: inline-block;\n  line-height: 1.2em;\n}\n\n#sk-container-id-1 div.sk-label-container {\n  text-align: center;\n}\n\n/* Estimator-specific */\n#sk-container-id-1 div.sk-estimator {\n  font-family: monospace;\n  border: 1px dotted var(--sklearn-color-border-box);\n  border-radius: 0.25em;\n  box-sizing: border-box;\n  margin-bottom: 0.5em;\n  /* unfitted */\n  background-color: var(--sklearn-color-unfitted-level-0);\n}\n\n#sk-container-id-1 div.sk-estimator.fitted {\n  /* fitted */\n  background-color: var(--sklearn-color-fitted-level-0);\n}\n\n/* on hover */\n#sk-container-id-1 div.sk-estimator:hover {\n  /* unfitted */\n  background-color: var(--sklearn-color-unfitted-level-2);\n}\n\n#sk-container-id-1 div.sk-estimator.fitted:hover {\n  /* fitted */\n  background-color: var(--sklearn-color-fitted-level-2);\n}\n\n/* Specification for estimator info (e.g. \"i\" and \"?\") */\n\n/* Common style for \"i\" and \"?\" */\n\n.sk-estimator-doc-link,\na:link.sk-estimator-doc-link,\na:visited.sk-estimator-doc-link {\n  float: right;\n  font-size: smaller;\n  line-height: 1em;\n  font-family: monospace;\n  background-color: var(--sklearn-color-background);\n  border-radius: 1em;\n  height: 1em;\n  width: 1em;\n  text-decoration: none !important;\n  margin-left: 0.5em;\n  text-align: center;\n  /* unfitted */\n  border: var(--sklearn-color-unfitted-level-1) 1pt solid;\n  color: var(--sklearn-color-unfitted-level-1);\n}\n\n.sk-estimator-doc-link.fitted,\na:link.sk-estimator-doc-link.fitted,\na:visited.sk-estimator-doc-link.fitted {\n  /* fitted */\n  border: var(--sklearn-color-fitted-level-1) 1pt solid;\n  color: var(--sklearn-color-fitted-level-1);\n}\n\n/* On hover */\ndiv.sk-estimator:hover .sk-estimator-doc-link:hover,\n.sk-estimator-doc-link:hover,\ndiv.sk-label-container:hover .sk-estimator-doc-link:hover,\n.sk-estimator-doc-link:hover {\n  /* unfitted */\n  background-color: var(--sklearn-color-unfitted-level-3);\n  color: var(--sklearn-color-background);\n  text-decoration: none;\n}\n\ndiv.sk-estimator.fitted:hover .sk-estimator-doc-link.fitted:hover,\n.sk-estimator-doc-link.fitted:hover,\ndiv.sk-label-container:hover .sk-estimator-doc-link.fitted:hover,\n.sk-estimator-doc-link.fitted:hover {\n  /* fitted */\n  background-color: var(--sklearn-color-fitted-level-3);\n  color: var(--sklearn-color-background);\n  text-decoration: none;\n}\n\n/* Span, style for the box shown on hovering the info icon */\n.sk-estimator-doc-link span {\n  display: none;\n  z-index: 9999;\n  position: relative;\n  font-weight: normal;\n  right: .2ex;\n  padding: .5ex;\n  margin: .5ex;\n  width: min-content;\n  min-width: 20ex;\n  max-width: 50ex;\n  color: var(--sklearn-color-text);\n  box-shadow: 2pt 2pt 4pt #999;\n  /* unfitted */\n  background: var(--sklearn-color-unfitted-level-0);\n  border: .5pt solid var(--sklearn-color-unfitted-level-3);\n}\n\n.sk-estimator-doc-link.fitted span {\n  /* fitted */\n  background: var(--sklearn-color-fitted-level-0);\n  border: var(--sklearn-color-fitted-level-3);\n}\n\n.sk-estimator-doc-link:hover span {\n  display: block;\n}\n\n/* \"?\"-specific style due to the `<a>` HTML tag */\n\n#sk-container-id-1 a.estimator_doc_link {\n  float: right;\n  font-size: 1rem;\n  line-height: 1em;\n  font-family: monospace;\n  background-color: var(--sklearn-color-background);\n  border-radius: 1rem;\n  height: 1rem;\n  width: 1rem;\n  text-decoration: none;\n  /* unfitted */\n  color: var(--sklearn-color-unfitted-level-1);\n  border: var(--sklearn-color-unfitted-level-1) 1pt solid;\n}\n\n#sk-container-id-1 a.estimator_doc_link.fitted {\n  /* fitted */\n  border: var(--sklearn-color-fitted-level-1) 1pt solid;\n  color: var(--sklearn-color-fitted-level-1);\n}\n\n/* On hover */\n#sk-container-id-1 a.estimator_doc_link:hover {\n  /* unfitted */\n  background-color: var(--sklearn-color-unfitted-level-3);\n  color: var(--sklearn-color-background);\n  text-decoration: none;\n}\n\n#sk-container-id-1 a.estimator_doc_link.fitted:hover {\n  /* fitted */\n  background-color: var(--sklearn-color-fitted-level-3);\n}\n</style><div id=\"sk-container-id-1\" class=\"sk-top-container\"><div class=\"sk-text-repr-fallback\"><pre>LogisticRegression()</pre><b>In a Jupyter environment, please rerun this cell to show the HTML representation or trust the notebook. <br />On GitHub, the HTML representation is unable to render, please try loading this page with nbviewer.org.</b></div><div class=\"sk-container\" hidden><div class=\"sk-item\"><div class=\"sk-estimator fitted sk-toggleable\"><input class=\"sk-toggleable__control sk-hidden--visually\" id=\"sk-estimator-id-1\" type=\"checkbox\" checked><label for=\"sk-estimator-id-1\" class=\"sk-toggleable__label fitted sk-toggleable__label-arrow\"><div><div>LogisticRegression</div></div><div><a class=\"sk-estimator-doc-link fitted\" rel=\"noreferrer\" target=\"_blank\" href=\"https://scikit-learn.org/1.6/modules/generated/sklearn.linear_model.LogisticRegression.html\">?<span>Documentation for LogisticRegression</span></a><span class=\"sk-estimator-doc-link fitted\">i<span>Fitted</span></span></div></label><div class=\"sk-toggleable__content fitted\"><pre>LogisticRegression()</pre></div> </div></div></div></div>"
          },
          "metadata": {}
        }
      ],
      "execution_count": 54
    },
    {
      "id": "6a85bf7a-d967-4a82-98fe-741a2b73d9a5",
      "cell_type": "code",
      "source": "train_y_pred = model.predict(X_train)\nprint(accuracy_score(train_y_pred,y_train))",
      "metadata": {
        "trusted": true
      },
      "outputs": [
        {
          "name": "stdout",
          "output_type": "stream",
          "text": "0.9868389423076923\n"
        }
      ],
      "execution_count": 55
    },
    {
      "id": "92dbc768-6dea-4b39-83b3-f8572130678a",
      "cell_type": "code",
      "source": "input_data = X_test[10]\nprediction = model.predict(input_data)",
      "metadata": {
        "trusted": true
      },
      "outputs": [],
      "execution_count": 56
    },
    {
      "id": "348aa4d6-0581-4c42-a65b-6f640272dc2c",
      "cell_type": "code",
      "source": "if prediction[0] == 0:\n    print('The News Is Real')\nelse:\n    print('The News is Fake')",
      "metadata": {
        "trusted": true
      },
      "outputs": [
        {
          "name": "stdout",
          "output_type": "stream",
          "text": "The News Is Real\n"
        }
      ],
      "execution_count": 57
    },
    {
      "id": "c6dede1c-023a-4e35-82d1-e90bc8bc5439",
      "cell_type": "code",
      "source": "news_df['content'][2]",
      "metadata": {
        "trusted": true
      },
      "outputs": [
        {
          "execution_count": 58,
          "output_type": "execute_result",
          "data": {
            "text/plain": "'consortiumnew com truth might get fire'"
          },
          "metadata": {}
        }
      ],
      "execution_count": 58
    },
    {
      "id": "4e327e27-be99-49af-a064-63319133c841",
      "cell_type": "code",
      "source": "",
      "metadata": {
        "trusted": true
      },
      "outputs": [],
      "execution_count": null
    }
  ]
}